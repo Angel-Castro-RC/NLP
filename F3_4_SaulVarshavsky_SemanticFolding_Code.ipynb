{
  "nbformat": 4,
  "nbformat_minor": 0,
  "metadata": {
    "colab": {
      "provenance": [],
      "include_colab_link": true
    },
    "kernelspec": {
      "name": "python3",
      "display_name": "Python 3"
    },
    "language_info": {
      "name": "python"
    },
    "accelerator": "TPU"
  },
  "cells": [
    {
      "cell_type": "markdown",
      "metadata": {
        "id": "view-in-github",
        "colab_type": "text"
      },
      "source": [
        "<a href=\"https://colab.research.google.com/github/Angel-Castro-RC/NLP/blob/main/F3_4_SaulVarshavsky_SemanticFolding_Code.ipynb\" target=\"_parent\"><img src=\"https://colab.research.google.com/assets/colab-badge.svg\" alt=\"Open In Colab\"/></a>"
      ]
    },
    {
      "cell_type": "markdown",
      "source": [
        "# Setting up the Model:"
      ],
      "metadata": {
        "id": "ZiqXdhXXMMjb"
      }
    },
    {
      "cell_type": "markdown",
      "source": [
        "## Word Vector Model:"
      ],
      "metadata": {
        "id": "tFCVtj212J0d"
      }
    },
    {
      "cell_type": "code",
      "execution_count": null,
      "metadata": {
        "id": "qu11DYNVnRRu",
        "colab": {
          "base_uri": "https://localhost:8080/"
        },
        "outputId": "a2421c9f-d276-48f2-d7ab-f7044675b00f"
      },
      "outputs": [
        {
          "output_type": "stream",
          "name": "stderr",
          "text": [
            "[nltk_data] Downloading package stopwords to /root/nltk_data...\n",
            "[nltk_data]   Package stopwords is already up-to-date!\n"
          ]
        },
        {
          "output_type": "execute_result",
          "data": {
            "text/plain": [
              "True"
            ]
          },
          "metadata": {},
          "execution_count": 3
        }
      ],
      "source": [
        "#Import necessary libraries for creating a Word Vector model\n",
        "import pandas as pd\n",
        "import numpy as np\n",
        "import string\n",
        "import nltk\n",
        "from nltk.tokenize import RegexpTokenizer\n",
        "from nltk.corpus import stopwords\n",
        "nltk.download('stopwords')"
      ]
    },
    {
      "cell_type": "code",
      "source": [
        "#Uploading the data pertaining to information from a given article\n",
        "from google.colab import files\n",
        "files.upload()"
      ],
      "metadata": {
        "colab": {
          "base_uri": "https://localhost:8080/",
          "height": 385
        },
        "id": "nNFZbsUg2Tah",
        "outputId": "62577f30-d904-4ab1-eaf1-f016f3d88c01"
      },
      "execution_count": null,
      "outputs": [
        {
          "output_type": "display_data",
          "data": {
            "text/plain": [
              "<IPython.core.display.HTML object>"
            ],
            "text/html": [
              "\n",
              "     <input type=\"file\" id=\"files-e2b440b5-1cca-489f-8152-427eefb276b7\" name=\"files[]\" multiple disabled\n",
              "        style=\"border:none\" />\n",
              "     <output id=\"result-e2b440b5-1cca-489f-8152-427eefb276b7\">\n",
              "      Upload widget is only available when the cell has been executed in the\n",
              "      current browser session. Please rerun this cell to enable.\n",
              "      </output>\n",
              "      <script>// Copyright 2017 Google LLC\n",
              "//\n",
              "// Licensed under the Apache License, Version 2.0 (the \"License\");\n",
              "// you may not use this file except in compliance with the License.\n",
              "// You may obtain a copy of the License at\n",
              "//\n",
              "//      http://www.apache.org/licenses/LICENSE-2.0\n",
              "//\n",
              "// Unless required by applicable law or agreed to in writing, software\n",
              "// distributed under the License is distributed on an \"AS IS\" BASIS,\n",
              "// WITHOUT WARRANTIES OR CONDITIONS OF ANY KIND, either express or implied.\n",
              "// See the License for the specific language governing permissions and\n",
              "// limitations under the License.\n",
              "\n",
              "/**\n",
              " * @fileoverview Helpers for google.colab Python module.\n",
              " */\n",
              "(function(scope) {\n",
              "function span(text, styleAttributes = {}) {\n",
              "  const element = document.createElement('span');\n",
              "  element.textContent = text;\n",
              "  for (const key of Object.keys(styleAttributes)) {\n",
              "    element.style[key] = styleAttributes[key];\n",
              "  }\n",
              "  return element;\n",
              "}\n",
              "\n",
              "// Max number of bytes which will be uploaded at a time.\n",
              "const MAX_PAYLOAD_SIZE = 100 * 1024;\n",
              "\n",
              "function _uploadFiles(inputId, outputId) {\n",
              "  const steps = uploadFilesStep(inputId, outputId);\n",
              "  const outputElement = document.getElementById(outputId);\n",
              "  // Cache steps on the outputElement to make it available for the next call\n",
              "  // to uploadFilesContinue from Python.\n",
              "  outputElement.steps = steps;\n",
              "\n",
              "  return _uploadFilesContinue(outputId);\n",
              "}\n",
              "\n",
              "// This is roughly an async generator (not supported in the browser yet),\n",
              "// where there are multiple asynchronous steps and the Python side is going\n",
              "// to poll for completion of each step.\n",
              "// This uses a Promise to block the python side on completion of each step,\n",
              "// then passes the result of the previous step as the input to the next step.\n",
              "function _uploadFilesContinue(outputId) {\n",
              "  const outputElement = document.getElementById(outputId);\n",
              "  const steps = outputElement.steps;\n",
              "\n",
              "  const next = steps.next(outputElement.lastPromiseValue);\n",
              "  return Promise.resolve(next.value.promise).then((value) => {\n",
              "    // Cache the last promise value to make it available to the next\n",
              "    // step of the generator.\n",
              "    outputElement.lastPromiseValue = value;\n",
              "    return next.value.response;\n",
              "  });\n",
              "}\n",
              "\n",
              "/**\n",
              " * Generator function which is called between each async step of the upload\n",
              " * process.\n",
              " * @param {string} inputId Element ID of the input file picker element.\n",
              " * @param {string} outputId Element ID of the output display.\n",
              " * @return {!Iterable<!Object>} Iterable of next steps.\n",
              " */\n",
              "function* uploadFilesStep(inputId, outputId) {\n",
              "  const inputElement = document.getElementById(inputId);\n",
              "  inputElement.disabled = false;\n",
              "\n",
              "  const outputElement = document.getElementById(outputId);\n",
              "  outputElement.innerHTML = '';\n",
              "\n",
              "  const pickedPromise = new Promise((resolve) => {\n",
              "    inputElement.addEventListener('change', (e) => {\n",
              "      resolve(e.target.files);\n",
              "    });\n",
              "  });\n",
              "\n",
              "  const cancel = document.createElement('button');\n",
              "  inputElement.parentElement.appendChild(cancel);\n",
              "  cancel.textContent = 'Cancel upload';\n",
              "  const cancelPromise = new Promise((resolve) => {\n",
              "    cancel.onclick = () => {\n",
              "      resolve(null);\n",
              "    };\n",
              "  });\n",
              "\n",
              "  // Wait for the user to pick the files.\n",
              "  const files = yield {\n",
              "    promise: Promise.race([pickedPromise, cancelPromise]),\n",
              "    response: {\n",
              "      action: 'starting',\n",
              "    }\n",
              "  };\n",
              "\n",
              "  cancel.remove();\n",
              "\n",
              "  // Disable the input element since further picks are not allowed.\n",
              "  inputElement.disabled = true;\n",
              "\n",
              "  if (!files) {\n",
              "    return {\n",
              "      response: {\n",
              "        action: 'complete',\n",
              "      }\n",
              "    };\n",
              "  }\n",
              "\n",
              "  for (const file of files) {\n",
              "    const li = document.createElement('li');\n",
              "    li.append(span(file.name, {fontWeight: 'bold'}));\n",
              "    li.append(span(\n",
              "        `(${file.type || 'n/a'}) - ${file.size} bytes, ` +\n",
              "        `last modified: ${\n",
              "            file.lastModifiedDate ? file.lastModifiedDate.toLocaleDateString() :\n",
              "                                    'n/a'} - `));\n",
              "    const percent = span('0% done');\n",
              "    li.appendChild(percent);\n",
              "\n",
              "    outputElement.appendChild(li);\n",
              "\n",
              "    const fileDataPromise = new Promise((resolve) => {\n",
              "      const reader = new FileReader();\n",
              "      reader.onload = (e) => {\n",
              "        resolve(e.target.result);\n",
              "      };\n",
              "      reader.readAsArrayBuffer(file);\n",
              "    });\n",
              "    // Wait for the data to be ready.\n",
              "    let fileData = yield {\n",
              "      promise: fileDataPromise,\n",
              "      response: {\n",
              "        action: 'continue',\n",
              "      }\n",
              "    };\n",
              "\n",
              "    // Use a chunked sending to avoid message size limits. See b/62115660.\n",
              "    let position = 0;\n",
              "    do {\n",
              "      const length = Math.min(fileData.byteLength - position, MAX_PAYLOAD_SIZE);\n",
              "      const chunk = new Uint8Array(fileData, position, length);\n",
              "      position += length;\n",
              "\n",
              "      const base64 = btoa(String.fromCharCode.apply(null, chunk));\n",
              "      yield {\n",
              "        response: {\n",
              "          action: 'append',\n",
              "          file: file.name,\n",
              "          data: base64,\n",
              "        },\n",
              "      };\n",
              "\n",
              "      let percentDone = fileData.byteLength === 0 ?\n",
              "          100 :\n",
              "          Math.round((position / fileData.byteLength) * 100);\n",
              "      percent.textContent = `${percentDone}% done`;\n",
              "\n",
              "    } while (position < fileData.byteLength);\n",
              "  }\n",
              "\n",
              "  // All done.\n",
              "  yield {\n",
              "    response: {\n",
              "      action: 'complete',\n",
              "    }\n",
              "  };\n",
              "}\n",
              "\n",
              "scope.google = scope.google || {};\n",
              "scope.google.colab = scope.google.colab || {};\n",
              "scope.google.colab._files = {\n",
              "  _uploadFiles,\n",
              "  _uploadFilesContinue,\n",
              "};\n",
              "})(self);\n",
              "</script> "
            ]
          },
          "metadata": {}
        },
        {
          "output_type": "error",
          "ename": "KeyboardInterrupt",
          "evalue": "ignored",
          "traceback": [
            "\u001b[0;31m---------------------------------------------------------------------------\u001b[0m",
            "\u001b[0;31mKeyboardInterrupt\u001b[0m                         Traceback (most recent call last)",
            "\u001b[0;32m<ipython-input-2-b23ab0d52c82>\u001b[0m in \u001b[0;36m<cell line: 3>\u001b[0;34m()\u001b[0m\n\u001b[1;32m      1\u001b[0m \u001b[0;31m#Uploading the data pertaining to information from a given article\u001b[0m\u001b[0;34m\u001b[0m\u001b[0;34m\u001b[0m\u001b[0m\n\u001b[1;32m      2\u001b[0m \u001b[0;32mfrom\u001b[0m \u001b[0mgoogle\u001b[0m\u001b[0;34m.\u001b[0m\u001b[0mcolab\u001b[0m \u001b[0;32mimport\u001b[0m \u001b[0mfiles\u001b[0m\u001b[0;34m\u001b[0m\u001b[0;34m\u001b[0m\u001b[0m\n\u001b[0;32m----> 3\u001b[0;31m \u001b[0mfiles\u001b[0m\u001b[0;34m.\u001b[0m\u001b[0mupload\u001b[0m\u001b[0;34m(\u001b[0m\u001b[0;34m)\u001b[0m\u001b[0;34m\u001b[0m\u001b[0;34m\u001b[0m\u001b[0m\n\u001b[0m",
            "\u001b[0;32m/usr/local/lib/python3.10/dist-packages/google/colab/files.py\u001b[0m in \u001b[0;36mupload\u001b[0;34m()\u001b[0m\n\u001b[1;32m     67\u001b[0m   \"\"\"\n\u001b[1;32m     68\u001b[0m \u001b[0;34m\u001b[0m\u001b[0m\n\u001b[0;32m---> 69\u001b[0;31m   \u001b[0muploaded_files\u001b[0m \u001b[0;34m=\u001b[0m \u001b[0m_upload_files\u001b[0m\u001b[0;34m(\u001b[0m\u001b[0mmultiple\u001b[0m\u001b[0;34m=\u001b[0m\u001b[0;32mTrue\u001b[0m\u001b[0;34m)\u001b[0m\u001b[0;34m\u001b[0m\u001b[0;34m\u001b[0m\u001b[0m\n\u001b[0m\u001b[1;32m     70\u001b[0m   \u001b[0;31m# Mapping from original filename to filename as saved locally.\u001b[0m\u001b[0;34m\u001b[0m\u001b[0;34m\u001b[0m\u001b[0m\n\u001b[1;32m     71\u001b[0m   \u001b[0mlocal_filenames\u001b[0m \u001b[0;34m=\u001b[0m \u001b[0mdict\u001b[0m\u001b[0;34m(\u001b[0m\u001b[0;34m)\u001b[0m\u001b[0;34m\u001b[0m\u001b[0;34m\u001b[0m\u001b[0m\n",
            "\u001b[0;32m/usr/local/lib/python3.10/dist-packages/google/colab/files.py\u001b[0m in \u001b[0;36m_upload_files\u001b[0;34m(multiple)\u001b[0m\n\u001b[1;32m    154\u001b[0m \u001b[0;34m\u001b[0m\u001b[0m\n\u001b[1;32m    155\u001b[0m   \u001b[0;31m# First result is always an indication that the file picker has completed.\u001b[0m\u001b[0;34m\u001b[0m\u001b[0;34m\u001b[0m\u001b[0m\n\u001b[0;32m--> 156\u001b[0;31m   result = _output.eval_js(\n\u001b[0m\u001b[1;32m    157\u001b[0m       'google.colab._files._uploadFiles(\"{input_id}\", \"{output_id}\")'.format(\n\u001b[1;32m    158\u001b[0m           \u001b[0minput_id\u001b[0m\u001b[0;34m=\u001b[0m\u001b[0minput_id\u001b[0m\u001b[0;34m,\u001b[0m \u001b[0moutput_id\u001b[0m\u001b[0;34m=\u001b[0m\u001b[0moutput_id\u001b[0m\u001b[0;34m\u001b[0m\u001b[0;34m\u001b[0m\u001b[0m\n",
            "\u001b[0;32m/usr/local/lib/python3.10/dist-packages/google/colab/output/_js.py\u001b[0m in \u001b[0;36meval_js\u001b[0;34m(script, ignore_result, timeout_sec)\u001b[0m\n\u001b[1;32m     38\u001b[0m   \u001b[0;32mif\u001b[0m \u001b[0mignore_result\u001b[0m\u001b[0;34m:\u001b[0m\u001b[0;34m\u001b[0m\u001b[0;34m\u001b[0m\u001b[0m\n\u001b[1;32m     39\u001b[0m     \u001b[0;32mreturn\u001b[0m\u001b[0;34m\u001b[0m\u001b[0;34m\u001b[0m\u001b[0m\n\u001b[0;32m---> 40\u001b[0;31m   \u001b[0;32mreturn\u001b[0m \u001b[0m_message\u001b[0m\u001b[0;34m.\u001b[0m\u001b[0mread_reply_from_input\u001b[0m\u001b[0;34m(\u001b[0m\u001b[0mrequest_id\u001b[0m\u001b[0;34m,\u001b[0m \u001b[0mtimeout_sec\u001b[0m\u001b[0;34m)\u001b[0m\u001b[0;34m\u001b[0m\u001b[0;34m\u001b[0m\u001b[0m\n\u001b[0m\u001b[1;32m     41\u001b[0m \u001b[0;34m\u001b[0m\u001b[0m\n\u001b[1;32m     42\u001b[0m \u001b[0;34m\u001b[0m\u001b[0m\n",
            "\u001b[0;32m/usr/local/lib/python3.10/dist-packages/google/colab/_message.py\u001b[0m in \u001b[0;36mread_reply_from_input\u001b[0;34m(message_id, timeout_sec)\u001b[0m\n\u001b[1;32m     94\u001b[0m     \u001b[0mreply\u001b[0m \u001b[0;34m=\u001b[0m \u001b[0m_read_next_input_message\u001b[0m\u001b[0;34m(\u001b[0m\u001b[0;34m)\u001b[0m\u001b[0;34m\u001b[0m\u001b[0;34m\u001b[0m\u001b[0m\n\u001b[1;32m     95\u001b[0m     \u001b[0;32mif\u001b[0m \u001b[0mreply\u001b[0m \u001b[0;34m==\u001b[0m \u001b[0m_NOT_READY\u001b[0m \u001b[0;32mor\u001b[0m \u001b[0;32mnot\u001b[0m \u001b[0misinstance\u001b[0m\u001b[0;34m(\u001b[0m\u001b[0mreply\u001b[0m\u001b[0;34m,\u001b[0m \u001b[0mdict\u001b[0m\u001b[0;34m)\u001b[0m\u001b[0;34m:\u001b[0m\u001b[0;34m\u001b[0m\u001b[0;34m\u001b[0m\u001b[0m\n\u001b[0;32m---> 96\u001b[0;31m       \u001b[0mtime\u001b[0m\u001b[0;34m.\u001b[0m\u001b[0msleep\u001b[0m\u001b[0;34m(\u001b[0m\u001b[0;36m0.025\u001b[0m\u001b[0;34m)\u001b[0m\u001b[0;34m\u001b[0m\u001b[0;34m\u001b[0m\u001b[0m\n\u001b[0m\u001b[1;32m     97\u001b[0m       \u001b[0;32mcontinue\u001b[0m\u001b[0;34m\u001b[0m\u001b[0;34m\u001b[0m\u001b[0m\n\u001b[1;32m     98\u001b[0m     if (\n",
            "\u001b[0;31mKeyboardInterrupt\u001b[0m: "
          ]
        }
      ]
    },
    {
      "cell_type": "code",
      "source": [
        "#Making sure the uploaded data is in a pandas data frame\n",
        "article_data = pd.DataFrame()\n",
        "article_data = pd.read_csv('SemanticFoldingData.csv', encoding='cp1252')\n",
        "article_data.head()"
      ],
      "metadata": {
        "id": "liI4hBSB2gKU"
      },
      "execution_count": null,
      "outputs": []
    },
    {
      "cell_type": "code",
      "source": [
        "#seeing how many words are in the article\n",
        "len(article_data['Article'][0].strip().split(\" \"))"
      ],
      "metadata": {
        "id": "wZk_ywhQq0A-"
      },
      "execution_count": null,
      "outputs": []
    },
    {
      "cell_type": "code",
      "source": [
        "#Create empty list that will make sure the article_data is clean and ready to use for the model\n",
        "cleaned_article_data = list()\n",
        "\n",
        "rows = article_data['Article'].values.tolist()\n",
        "\n",
        "for row in rows:\n",
        "\n",
        "\t#create word tokens as well as remove puntuation in one go\n",
        "\tpunctuation = RegexpTokenizer(r'\\w+')\n",
        "\n",
        "\ttokens = punctuation.tokenize(row)\n",
        "\n",
        "  #convert the words to lower case\n",
        "\twords = [w.lower() for w in tokens]\n",
        "\n",
        "\t#Refers to all the English stopwords (a.k.a words that are irrelevant for the model, such as \"the\", \"a\", etc.)\n",
        "\tstop_word_list = set(stopwords.words('english'))\n",
        "\n",
        "\t#Remove all the stopwords\n",
        "\twords = [w for w in words if not w in stop_word_list]\n",
        "\n",
        "\t#Appends the words that are actually useful for the model to the list cleaned_article_data.\n",
        "\tcleaned_article_data.append(words)\n",
        "\n",
        "len(cleaned_article_data)"
      ],
      "metadata": {
        "id": "jIKx6C7c2vuB"
      },
      "execution_count": null,
      "outputs": []
    },
    {
      "cell_type": "code",
      "source": [
        "#checking to see that the words are appended\n",
        "print(cleaned_article_data)"
      ],
      "metadata": {
        "id": "Ks58nad9vsKs"
      },
      "execution_count": null,
      "outputs": []
    },
    {
      "cell_type": "code",
      "source": [
        "#Since a Semantic Folding model is built off a Word Vector model, we'll use the\n",
        "#Genism package to train the Word Vector model\n",
        "import gensim\n",
        "\n",
        "#the words from the article that will be fed to the model (let's use 1,000 in this case out of the 1,189 words that are present in the article)\n",
        "article_size = 1000\n",
        "\n",
        "#process of training the Word Vector model\n",
        "word_vec_model = gensim.models.Word2Vec(sentences = cleaned_article_data, vector_size = article_size, workers = 4, min_count = 1)\n",
        "\n",
        "#the amount of new words in the article used to train the model (words the model doesn't know yet)\n",
        "words = word_vec_model.wv\n",
        "\n",
        "#The number of words in the article that are new to the model\n",
        "print('Here is the Vocabulary Size.. %d' % len(words))"
      ],
      "metadata": {
        "id": "0NB7EEpZ6JWh"
      },
      "execution_count": null,
      "outputs": []
    },
    {
      "cell_type": "code",
      "source": [
        "#The Word Vector model is able to group words that are related to a specific word.\n",
        "#For example, let's say I want to know which words the model classifies as being similar or relating to the context of knowledge.\n",
        "word_vec_model.wv.most_similar('knowledge')\n",
        "\n",
        "#This aspect of the model is important for Semantic Folding, as a major aspect of Semantic Folding is to take context into account when creating\n",
        "#fingerprints for various words, sentences, etc."
      ],
      "metadata": {
        "id": "AaPOejjKBxXI"
      },
      "execution_count": null,
      "outputs": []
    },
    {
      "cell_type": "code",
      "source": [
        "#Let's use another example, such as a verb this time: the word \"thinking\"\n",
        "word_vec_model.wv.most_similar('thinking')"
      ],
      "metadata": {
        "id": "LoyMYZFqFV1w"
      },
      "execution_count": null,
      "outputs": []
    },
    {
      "cell_type": "code",
      "source": [
        "#The model can also perform mathematical operations to determine which word(s) may be appropriate for a given context provided other words.\n",
        "#For example, the operation thinking + learning - language will yield words in which thinking and knowledge are in the context of situations\n",
        "#without activities such as reading and writing; these would be activities such as hands-on learning, conducting experiments, etc.\n",
        "word_vec_model.wv.most_similar_cosmul(positive=['thinking','learning'], negative=['language'])\n",
        "\n",
        "#The results are somewhat ambiguous though, since words such as \"education\" may entail the use of activities like reading and writing, but may also\n",
        "#include activities related to STEM. However, the each of the words provided have fairly high accuracies"
      ],
      "metadata": {
        "id": "OIx_3pWTFpgQ"
      },
      "execution_count": null,
      "outputs": []
    },
    {
      "cell_type": "code",
      "source": [
        "#The Wod Vector model can also be used to identify which word(s) are not related to other words.\n",
        "#For example, if we look at the words \"thinking\", \"knowledge\", \"learning\", and \"strict\", the word \"strict\" should be the one that is not related\n",
        "#to the other words (at least directly).\n",
        "print(word_vec_model.wv.doesnt_match(\"thinking learning writing school\".split()))\n",
        "\n",
        "#As expected, the model outputted \"school\". Even though \"school\" pertains to all the other words, it doesn't describe the process of solidifying\n",
        "#information like the verbs do"
      ],
      "metadata": {
        "id": "vXhKaEvxI65r"
      },
      "execution_count": null,
      "outputs": []
    },
    {
      "cell_type": "markdown",
      "source": [
        "## 3D Vector Space:"
      ],
      "metadata": {
        "id": "kKudYsnN2TLe"
      }
    },
    {
      "cell_type": "code",
      "source": [
        "#installing the karateclub library to be used later\n",
        "!pip install karateclub networkx numpy matplotlib"
      ],
      "metadata": {
        "id": "LdQjdLCs0dHz"
      },
      "execution_count": null,
      "outputs": []
    },
    {
      "cell_type": "code",
      "source": [
        "#importing necessary libraries for creating a vectorized space\n",
        "import numpy as np\n",
        "import networkx as nx\n",
        "import matplotlib.pyplot as plt\n",
        "from karateclub.node_embedding.neighbourhood.deepwalk import DeepWalk"
      ],
      "metadata": {
        "id": "ivwAcPkuwodJ"
      },
      "execution_count": null,
      "outputs": []
    },
    {
      "cell_type": "code",
      "source": [
        "#Initializing a vectorized space of the word clusters, or embeddings (take into account similarities between words)\n",
        "\n",
        "#specifying the nodes we want to be displayed in the vectorized space\n",
        "vectorized_space = nx.random_tree(40)  #let's use 40 nodes"
      ],
      "metadata": {
        "id": "gQIr-1RFLFti"
      },
      "execution_count": null,
      "outputs": []
    },
    {
      "cell_type": "code",
      "source": [
        "#need to specify number of dimensions we want for the graph (let's use 2 in this case)\n",
        "deepwalk = DeepWalk(dimensions=2)\n",
        "deepwalk.fit(vectorized_space)"
      ],
      "metadata": {
        "id": "K0cwaBjT1tel"
      },
      "execution_count": null,
      "outputs": []
    },
    {
      "cell_type": "code",
      "source": [
        "#setting up the graph for creating word embeddings\n",
        "embedding = deepwalk.get_embedding()\n",
        "print(embedding)\n",
        "#When embedding gets printed, we see coordinates, which are designed to be the locations of individual words that form the embeddings/clusters"
      ],
      "metadata": {
        "id": "ALqvx7lu2fpZ"
      },
      "execution_count": null,
      "outputs": []
    },
    {
      "cell_type": "code",
      "source": [
        "#Setting up the size of the vectorized space\n",
        "fig_size = plt.figure(figsize=(15,8))\n",
        "#creating a 2D vectorized space\n",
        "ax = fig_size.add_subplot()"
      ],
      "metadata": {
        "id": "1s_FoAKi4PpG"
      },
      "execution_count": null,
      "outputs": []
    },
    {
      "cell_type": "code",
      "source": [
        "#Creating an initial graphical representation that could be used for semantic folding\n",
        "ax.scatter(embedding[:, 0], embedding[:, 1])\n",
        "ax.figure\n",
        "#The graph looks somewhat like a scatter plot, where the points are meant to represent the \"locations\" of the words in a semantic folding model"
      ],
      "metadata": {
        "id": "jBxHQyj91Dps"
      },
      "execution_count": null,
      "outputs": []
    },
    {
      "cell_type": "markdown",
      "source": [
        "## Word Embeddings:"
      ],
      "metadata": {
        "id": "FXjM5k-V2e2J"
      }
    },
    {
      "cell_type": "code",
      "source": [
        "#Now, let's combine everything together (the vectorized space with the word vector model) to create a simplified semantic folding model\n",
        "\n",
        "\n",
        "#We'll first go about this by creating bigrams of consecutive words from the article\n",
        "bigrams = []\n",
        "for words in cleaned_article_data:\n",
        "  for i in range(len(words) - 1):\n",
        "    for j in range(i+1, len(words)):\n",
        "      bigrams.append([words[i], words[j]])\n",
        "      bigrams.append([words[j], words[i]])\n",
        "\n"
      ],
      "metadata": {
        "id": "EJsJ8n3cq1rv"
      },
      "execution_count": null,
      "outputs": []
    },
    {
      "cell_type": "code",
      "source": [
        "#seeing how the bigrams look like\n",
        "bigrams"
      ],
      "metadata": {
        "id": "y0YOQuC-x3O_"
      },
      "execution_count": null,
      "outputs": []
    },
    {
      "cell_type": "code",
      "source": [
        "#Now, let's identify all the unique words that are from the bigrams (i.e. words that only occur once)\n",
        "#In order to do this, let's first create a list that includes every single word from the article\n",
        "all_words = []\n",
        "for pair in bigrams:\n",
        "  all_words.extend(pair)\n",
        "all_words = list(set(all_words))\n",
        "all_words.sort()\n"
      ],
      "metadata": {
        "id": "In5zoR76yEQg"
      },
      "execution_count": null,
      "outputs": []
    },
    {
      "cell_type": "code",
      "source": [
        "print(all_words)"
      ],
      "metadata": {
        "id": "irWnEWEEzppN"
      },
      "execution_count": null,
      "outputs": []
    },
    {
      "cell_type": "code",
      "source": [
        "len(all_words)  #391 words in total"
      ],
      "metadata": {
        "id": "clB-u95cztjh"
      },
      "execution_count": null,
      "outputs": []
    },
    {
      "cell_type": "code",
      "source": [
        "#Before we can identify all the unique words, let's also assign a token to each word by creating a dictionary\n",
        "words_dict = {}\n",
        "\n",
        "count = 0\n",
        "for word in all_words:\n",
        "  words_dict[word] = count\n",
        "  count += 1\n",
        "print(words_dict)"
      ],
      "metadata": {
        "id": "K4nIj0KOzxhd"
      },
      "execution_count": null,
      "outputs": []
    },
    {
      "cell_type": "code",
      "source": [
        "#Now, let's actually assign vectors to each word as a means to tokenize each word (1 represents the location of that exact word in the list)\n",
        "import numpy as np\n",
        "\n",
        "data_encoding = np.zeros((len(all_words), len(all_words)))\n",
        "\n",
        "for i in range(len(all_words)):\n",
        "  data_encoding[i][i] = 1\n",
        "\n",
        "#By creating a dictionary, we're able to map every word to its corresponding location (1) in the list\n",
        "data_encoding_dict = {}\n",
        "count = 0\n",
        "for word in all_words:\n",
        "  data_encoding_dict[word] = data_encoding[count]\n",
        "  count += 1\n",
        "\n",
        "for word in data_encoding_dict:\n",
        "  print(word, \":\", data_encoding_dict[word])"
      ],
      "metadata": {
        "id": "GZ-F0zL40odF"
      },
      "execution_count": null,
      "outputs": []
    },
    {
      "cell_type": "code",
      "source": [
        "#The list X includes the first words of the bigrams, whereas list Y includes the second words of the bigrams\n",
        "\n",
        "X = []\n",
        "Y = []\n",
        "\n",
        "for bi in bigrams:\n",
        "  X.append(data_encoding_dict[bi[0]])\n",
        "  Y.append(data_encoding_dict[bi[1]])\n",
        "\n",
        "X = np.array(X)\n",
        "Y = np.array(Y)"
      ],
      "metadata": {
        "id": "JR0JpHmu2Gnh"
      },
      "execution_count": null,
      "outputs": []
    },
    {
      "cell_type": "code",
      "source": [
        "print(X)"
      ],
      "metadata": {
        "id": "63O_4R_F8H0g"
      },
      "execution_count": null,
      "outputs": []
    },
    {
      "cell_type": "code",
      "source": [
        "print(Y)"
      ],
      "metadata": {
        "id": "dY3yEysw8Pcf"
      },
      "execution_count": null,
      "outputs": []
    },
    {
      "cell_type": "markdown",
      "source": [
        "## Neural Network:"
      ],
      "metadata": {
        "id": "vXSzd3V1X59w"
      }
    },
    {
      "cell_type": "code",
      "source": [
        "#Creating a neural network to have the model be trained given the words of that one article\n",
        "from keras.models import Sequential\n",
        "from keras.layers import Dense, Input\n",
        "\n",
        "model = Sequential()\n",
        "\n",
        "#size of the single encoding\n",
        "vec_size = len(data_encoding[0])\n",
        "embedding_size = 2  #number of dimensions\n",
        "\n",
        "#specifying the input layer of the neural network\n",
        "model.add(Input(shape= (vec_size,)))\n",
        "\n",
        "#specifying the middle layer after the input layer in the neural network\n",
        "model.add(Dense(embedding_size, activation = 'linear'))\n",
        "\n",
        "#specifying the output layer of the neural network\n",
        "model.add(Dense(vec_size, activation = 'softmax'))\n",
        "\n",
        "#compiling the model\n",
        "model.compile(loss = 'categorical_crossentropy', optimizer = 'adam')"
      ],
      "metadata": {
        "id": "8kOXBBKQ8jSO"
      },
      "execution_count": null,
      "outputs": []
    },
    {
      "cell_type": "code",
      "source": [
        "#fitting the actual model\n",
        "model.fit(X, Y, epochs = 10)"
      ],
      "metadata": {
        "id": "5Oza8JqOAVBj"
      },
      "execution_count": null,
      "outputs": []
    },
    {
      "cell_type": "code",
      "source": [
        "#Now, let's extract the weights/coordinate pairs (i.e. convey the important of a given feature in predicting a given output) of the neural network\n",
        "#corresponding to each word\n",
        "weights = model.get_weights()[0]\n",
        "weights\n"
      ],
      "metadata": {
        "id": "sXymVjt-BhU8"
      },
      "execution_count": null,
      "outputs": []
    },
    {
      "cell_type": "code",
      "source": [
        "#creating a word embedding dictionary to be used for creating the vectorized space (i.e. fingerprint) later on\n",
        "#The dictionary will include a word corresponding to its weight\n",
        "word_embeddings = {}\n",
        "for word in all_words:\n",
        "  word_embeddings[word] = weights[words_dict[word]]\n",
        "\n",
        "#prints the actual word embeddings\n",
        "for word in all_words:\n",
        "  print(word, \":\", word_embeddings[word])"
      ],
      "metadata": {
        "id": "d7-EdRxlDDbe"
      },
      "execution_count": null,
      "outputs": []
    },
    {
      "cell_type": "code",
      "source": [
        "#creating the actual vectorized space of words, where words more related are plotted closer to each other\n",
        "import matplotlib.pyplot as plt\n",
        "\n",
        "plt.figure(figsize=(25,25))\n",
        "\n",
        "for word in all_words:\n",
        "  coordinates = word_embeddings[word]\n",
        "  plt.scatter(coordinates[0], coordinates[1])\n",
        "  plt.annotate(word, (coordinates[0], coordinates[1]))\n",
        "\n",
        "\n"
      ],
      "metadata": {
        "id": "RaK4P4uHG1iy"
      },
      "execution_count": null,
      "outputs": []
    },
    {
      "cell_type": "markdown",
      "source": [
        "### Exercises:\n",
        "\n",
        "1) How would I go about creating a 3D vectorized space of the word? What about more than three dimensions?\n",
        "\n",
        "2) How would the number of dimensions affect the way the locations of the words are represented on the grid? How would the locations be represented differently compared to before?"
      ],
      "metadata": {
        "id": "FZorgVteQPPD"
      }
    },
    {
      "cell_type": "markdown",
      "source": [
        "# Feeding a Single Word Into The Model:"
      ],
      "metadata": {
        "id": "kOXt4aBCMHV_"
      }
    },
    {
      "cell_type": "code",
      "source": [
        "#Let's feed a single word into the model we setup and output a fingerprint for that word\n",
        "w = 'thinking'  #the input\n",
        "\n",
        "plt.figure(figsize=(5,5))\n",
        "\n",
        "#the for loop below goes through the process of generating a unique fingerprint for a given word\n",
        "for word in all_words:\n",
        "  if w == word:\n",
        "    coordinates = word_embeddings[w]\n",
        "    plt.scatter(coordinates[0], coordinates[1])\n",
        "\n",
        "#Based on the results, there is only one coordinate pair for \"thinking\", which is why the fingerprint looks that way\n"
      ],
      "metadata": {
        "colab": {
          "base_uri": "https://localhost:8080/",
          "height": 445
        },
        "id": "UyRSZU8sMbpF",
        "outputId": "f56fa6f0-be9f-44d6-eb7e-2e5b667a82e3"
      },
      "execution_count": null,
      "outputs": [
        {
          "output_type": "display_data",
          "data": {
            "text/plain": [
              "<Figure size 500x500 with 1 Axes>"
            ],
            "image/png": "[encoded data removed]"
          },
          "metadata": {}
        }
      ]
    },
    {
      "cell_type": "code",
      "source": [
        "#Let's feed another single word into this model\n",
        "w = 'school'  #the input\n",
        "\n",
        "plt.figure(figsize=(5,5))\n",
        "\n",
        "#the for loop below goes through the process of generating a unique fingerprint for a given word\n",
        "for word in all_words:\n",
        "  if w == word:\n",
        "    coordinates = word_embeddings[w]\n",
        "    plt.scatter(coordinates[0], coordinates[1])\n",
        "\n",
        "#Based on the results, there is only one coordinate pair for \"school\", which is why the fingerprint looks that way"
      ],
      "metadata": {
        "colab": {
          "base_uri": "https://localhost:8080/",
          "height": 445
        },
        "id": "FuP0dhybSFIB",
        "outputId": "6bac5b64-e7a2-4ffe-b2b7-0418432bbcec"
      },
      "execution_count": null,
      "outputs": [
        {
          "output_type": "display_data",
          "data": {
            "text/plain": [
              "<Figure size 500x500 with 1 Axes>"
            ],
            "image/png": "[encoded data removed]"
          },
          "metadata": {}
        }
      ]
    },
    {
      "cell_type": "code",
      "source": [
        "#Let's feed another single word into this model\n",
        "w = 'education'  #the input\n",
        "\n",
        "plt.figure(figsize=(5,5))\n",
        "\n",
        "#the for loop below goes through the process of generating a unique fingerprint for a given word\n",
        "for word in all_words:\n",
        "  if w == word:\n",
        "    coordinates = word_embeddings[w]\n",
        "    plt.scatter(coordinates[0], coordinates[1])\n",
        "\n",
        "#Based on the results, there is only one coordinate pair for \"education\", which is why the fingerprint looks that way"
      ],
      "metadata": {
        "colab": {
          "base_uri": "https://localhost:8080/",
          "height": 445
        },
        "id": "WdiGyCuQSSZu",
        "outputId": "2e596d32-805b-4c10-d502-36ad8a1df663"
      },
      "execution_count": null,
      "outputs": [
        {
          "output_type": "display_data",
          "data": {
            "text/plain": [
              "<Figure size 500x500 with 1 Axes>"
            ],
            "image/png": "[encoded data removed]"
          },
          "metadata": {}
        }
      ]
    },
    {
      "cell_type": "markdown",
      "source": [
        "# Feeding More Than One Word Into The Model:"
      ],
      "metadata": {
        "id": "wQ-jOt_TS6mX"
      }
    },
    {
      "cell_type": "code",
      "source": [
        "#Now, let's feed a sentence into the model\n",
        "sentence = 'I need to think a lot when learning something new.'  #the input\n",
        "sentence_list = sentence.split()  #puts each word into a list\n",
        "\n",
        "plt.figure(figsize=(5,5))\n",
        "\n",
        "for w in sentence_list:\n",
        "  for word in all_words:\n",
        "    if w == word:\n",
        "      coordinates = word_embeddings[w]\n",
        "      plt.scatter(coordinates[0], coordinates[1])\n",
        "      plt.annotate(word, (coordinates[0], coordinates[1]))\n",
        "\n",
        "\n",
        "#The model only displays two coordinates. This is probably an indication that the model only recognizes the words \"learning\" and \"need\"\n",
        "#but not any other words.\n",
        "#In order to generate a more detailed fingerprint, the model needs to probably be setup to have more words entered into it initially\n",
        "\n",
        "\n"
      ],
      "metadata": {
        "colab": {
          "base_uri": "https://localhost:8080/",
          "height": 445
        },
        "id": "bWvpXvC-TEg1",
        "outputId": "a1ed6c8e-2be9-4b03-d85b-3eac3f4119f6"
      },
      "execution_count": null,
      "outputs": [
        {
          "output_type": "display_data",
          "data": {
            "text/plain": [
              "<Figure size 500x500 with 1 Axes>"
            ],
            "image/png": "[encoded data removed]"
          },
          "metadata": {}
        }
      ]
    },
    {
      "cell_type": "markdown",
      "source": [
        "### Exercises:\n",
        "\n",
        "1) Based on the results, the fingerprint doesn't fully capture our sentence, because there are words that weren't fed into the model. How would I go about graphing coordinates of those new words the model doesn't know?\n",
        "\n",
        "2) Generally speaking, how could I go about having this model identify the appropriate contexts for new words without having to simply feed more data into the model?"
      ],
      "metadata": {
        "id": "pKt3GPKpWtcC"
      }
    }
  ]
}